{
 "cells": [
  {
   "cell_type": "code",
   "execution_count": 1,
   "metadata": {},
   "outputs": [],
   "source": [
    "from ollama import Client\n",
    "from transformers import PreTrainedTokenizerFast\n",
    "from dotenv import load_dotenv\n",
    "import nest_asyncio\n",
    "\n",
    "load_dotenv()\n",
    "nest_asyncio.apply()\n",
    "\n",
    "# This code cleans gets text from the samples folder and puts them in the output folder\n",
    "target_transcription = [\n",
    "    \"samples/Lecture04/transcribe.txt\"\n",
    "]\n",
    "\n",
    "target_material = [\n",
    "    \"samples/Lecture04/pdf_text.txt\"\n",
    "]\n",
    "\n",
    "model = \"llama3.1:8b-instruct-q4_0\"\n",
    "hf_model = \"meta-llama/Llama-3.1-8B-Instruct\"\n",
    "embed_model = \"mxbai-embed-large:latest\"\n",
    "ollama_endpoint = \"http://127.0.0.1:11434\"\n",
    "\n",
    "c = Client(ollama_endpoint, timeout=60)\n",
    "t = PreTrainedTokenizerFast.from_pretrained(hf_model)"
   ]
  },
  {
   "cell_type": "code",
   "execution_count": 2,
   "metadata": {},
   "outputs": [
    {
     "name": "stdout",
     "output_type": "stream",
     "text": [
      "resource module not available on Windows\n"
     ]
    }
   ],
   "source": [
    "# Prepare LlamaIndex\n",
    "from llama_index.llms.ollama import Ollama\n",
    "from llama_index.embeddings.ollama import OllamaEmbedding\n",
    "from llama_index.core import VectorStoreIndex, SimpleDirectoryReader, Settings\n",
    "from llama_index.readers.file import CSVReader\n",
    "from llama_index.core.llms import ChatMessage, MessageRole\n",
    "from llama_index.core import Settings\n",
    "from llama_index.core.memory import ChatMemoryBuffer\n",
    "from llama_index.core.node_parser import SentenceSplitter\n",
    "from llama_index.retrievers.bm25 import BM25Retriever\n",
    "from llama_index.core.chat_engine import CondensePlusContextChatEngine\n",
    "from llama_index.core.retrievers import QueryFusionRetriever\n",
    "from llama_index.core import Document\n",
    "\n",
    "text_splitter = SentenceSplitter(chunk_size=1024, chunk_overlap=20, tokenizer=t)\n",
    "Settings.llm = Ollama(model=model, base_url=ollama_endpoint)\n",
    "Settings.embed_model = OllamaEmbedding(base_url=ollama_endpoint, model_name=embed_model)"
   ]
  },
  {
   "cell_type": "code",
   "execution_count": 3,
   "metadata": {},
   "outputs": [],
   "source": [
    "transcription_text: list[str] = []\n",
    "material_text: list[str] = []\n",
    "\n",
    "documents: list[Document] = []\n",
    "\n",
    "for file in target_transcription:\n",
    "    with open(file, \"r\") as f:\n",
    "        text = f.read()\n",
    "        documents.append(\n",
    "            Document(\n",
    "                text=text,\n",
    "                extra_info={\"type\": \"raw transcription\"}\n",
    "            )\n",
    "        )\n",
    "        transcription_text.append(text)\n",
    "\n",
    "for file in target_material:\n",
    "    with open(file, \"r\") as f:\n",
    "        text = f.read()\n",
    "        documents.append(\n",
    "            Document(\n",
    "                text=text,\n",
    "                extra_info={\"type\": \"raw material\"}\n",
    "            )\n",
    "        )\n",
    "        material_text.append(text)"
   ]
  },
  {
   "cell_type": "code",
   "execution_count": 4,
   "metadata": {},
   "outputs": [
    {
     "name": "stdout",
     "output_type": "stream",
     "text": [
      "[Summary]\n",
      "**Multicast Communication**\n",
      "\n",
      "* **Flooding-Based Multicasting**\n",
      "\t+ Each node sends a message M to its neighbors.\n",
      "\t+ Neighbors forward the message to their own neighbors, and so on.\n",
      "\t+ This process continues until all nodes receive the message.\n",
      "* **Probability of Forwarding (Pf)**\n",
      "\t+ A parameter that determines the probability of a node forwarding a message to its neighbors.\n",
      "\t+ Example: If Pf = 0.01, then each node will forward the message to only 10% of its neighbors.\n",
      "* **Connectivity Probability (Ps)**\n",
      "\t+ A parameter that determines the probability of a node being connected to other nodes in the network.\n",
      "\t+ Example: If Ps = 0.1, then each node is connected to 1000 other nodes.\n",
      "\n",
      "**Hypercube-Based Multicasting**\n",
      "\n",
      "* **4-Dimensional Hypercube**\n",
      "\t+ Each node has 4 dimensions (e.g., x, y, z, and w).\n",
      "\t+ Messages are forwarded along the dimensions of the hypercube.\n",
      "\t+ Example: Node 1001 sends a message to its neighbors in each dimension (x=0, y=1, z=0, w=1).\n",
      "\n",
      "**Gossip-Based Data Dissemination**\n",
      "\n",
      "* **Epidemic Behavior**\n",
      "\t+ A model that simulates the spread of information or rumors in a network.\n",
      "\t+ Three types of nodes: infected, susceptible, and removed.\n",
      "\t+ Infected nodes forward messages to their neighbors, while susceptible nodes receive messages from their neighbors.\n",
      "\t+ Removed nodes do not participate in message forwarding.\n",
      "\n",
      "**Gossiping**\n",
      "\n",
      "* **Push-Based Approach**\n",
      "\t+ Each node pushes a message to its neighbors.\n",
      "\t+ Example: Node 1001 sends a message to its neighbors in each dimension (x=0, y=1, z=0, w=1).\n",
      "* **Pull-Based Approach**\n",
      "\t+ Each node pulls messages from its neighbors.\n",
      "\t+ Example: Node 0001 receives a message from Node 1001 and forwards it to its own neighbors.\n",
      "\n",
      "**Side Effects of Gossip-Based Data Dissemination**\n",
      "\n",
      "* **Difficulty in Deleting Messages**\n",
      "\t+ Once a message is spread, it can be difficult to delete or remove it from the network.\n",
      "\t+ Nodes that have already received the message may continue to forward it to their neighbors.\n",
      "* **Use of Death Certificates**\n",
      "\t+ A mechanism to mark messages as \"dead\" and prevent them from being forwarded further.\n",
      "\t+ Death certificates are sent along with new messages to update nodes about the status of previous messages.\n",
      "\n",
      "Note: The document has been restructured into sections and subheadings for easier reading. Some minor language corrections have also been made to improve clarity.\n",
      "\n",
      "[Summary]\n",
      "It seems like you've provided a comprehensive set of notes on distributed systems, specifically focusing on message-oriented communication. I'll summarize the key points for each section:\n",
      "\n",
      "**Message-Oriented Communication**\n",
      "\n",
      "* Message-oriented communication is an alternative to RPCs (Remote Procedure Calls) and remote object invocations.\n",
      "* It's suitable when the receiving side may not be executing at the time a request is issued.\n",
      "* Two types of message-oriented communication are:\n",
      "\t+ Transient: assumes that serious failures do not require automatic recovery.\n",
      "\t+ Persistent: provides intermediate-term storage capacity for messages.\n",
      "\n",
      "**Message-Oriented Transient Communication**\n",
      "\n",
      "* Many distributed systems and applications use the simple message-oriented model offered by the transport layer.\n",
      "* Standard interfaces, such as Berkeley Sockets, have been introduced to make it easier to port an application to a different machine.\n",
      "* The sockets interface is a low-level abstraction that provides a communication end point for sending and receiving messages.\n",
      "\n",
      "**Message-Oriented Persistent Communication**\n",
      "\n",
      "* Message-queuing systems provide extensive support for persistent asynchronous communication.\n",
      "* They offer intermediate-term storage capacity for messages, without requiring either the sender or receiver to be active during message transmission.\n",
      "* The basic idea is that applications communicate by inserting messages in specific queues.\n",
      "\n",
      "**Multicast Communication**\n",
      "\n",
      "* Multicast communication in distributed systems is the support for sending data to multiple receivers.\n",
      "* Application-level multicasting techniques have been introduced, which rely on overlay networks to disseminate information.\n",
      "* Two approaches are:\n",
      "\t+ Tree-based: nodes organize themselves into a tree structure, with a unique path between every pair of nodes.\n",
      "\t+ Mesh-based: nodes form a mesh network, where every node has multiple neighbors and there exist multiple paths between every pair of nodes.\n",
      "\n",
      "**Gossip-Based Data Dissemination**\n",
      "\n",
      "* Gossip-based data dissemination is an increasingly important technique for disseminating information in distributed systems.\n",
      "* It relies on epidemic behavior, where nodes spread updates to their neighbors using local information.\n",
      "* The main goal is to rapidly propagate information among a large collection of nodes using only local information.\n",
      "\n",
      "**Stream-Oriented Communication**\n",
      "\n",
      "* Stream-oriented communication supports the exchange of time-dependent information.\n",
      "* DSes provide support for data streams, which are sequences of data units.\n",
      "* A distinction is often made between different transmission modes:\n",
      "\t+ Asynchronous: no further timing constraints on when transmission of items should take place.\n",
      "\t+ Synchronous: a maximum end-to-end delay defined for each unit in a data stream.\n",
      "\t+ Isochronous: necessary that data units are transferred on time, with a maximum and minimum end-to-end delay.\n",
      "\n",
      "I hope this summary helps! Let me know if you have any further questions or need clarification on any of these points.\n",
      "\n"
     ]
    }
   ],
   "source": [
    "# Manually summarise transcription and material into points\n",
    "summariser_splitter = SentenceSplitter(chunk_size=15*1024, chunk_overlap=512, tokenizer=t)\n",
    "summaries: list[str] = []\n",
    "\n",
    "for chunk in summariser_splitter.split_texts(transcription_text) + summariser_splitter.split_texts(material_text):\n",
    "    result = c.generate(\n",
    "        model=model,\n",
    "        prompt=(\n",
    "f\"\"\"Clean up the given document and restructure it using Markdown.\n",
    "Clean up the document by structuring the information into points.\n",
    "Fix and correct grammatical and language errors.\n",
    "You must include all crucial information. You must not add any information that is not in the document.\n",
    "\n",
    "<Document>\n",
    "{chunk}\n",
    "\n",
    "<Restructured Document>\n",
    "\"\"\"\n",
    "        ),\n",
    "        options={\n",
    "            \"temperature\": 0,\n",
    "            \"num_ctx\": 16*1024,\n",
    "            \"num_predict\": 16*1024,\n",
    "        }\n",
    "    )\n",
    "\n",
    "    response = result[\"response\"].strip()\n",
    "    summaries.append(response)\n",
    "    print(\"[Summary]\\n\" + response, end=\"\\n\\n\")"
   ]
  },
  {
   "cell_type": "code",
   "execution_count": 18,
   "metadata": {},
   "outputs": [
    {
     "data": {
      "application/vnd.jupyter.widget-view+json": {
       "model_id": "4aa76d7870e94babab183109c5290a14",
       "version_major": 2,
       "version_minor": 0
      },
      "text/plain": [
       "Parsing nodes:   0%|          | 0/4 [00:00<?, ?it/s]"
      ]
     },
     "metadata": {},
     "output_type": "display_data"
    },
    {
     "data": {
      "application/vnd.jupyter.widget-view+json": {
       "model_id": "729cfcdce123464484e303b73960305e",
       "version_major": 2,
       "version_minor": 0
      },
      "text/plain": [
       "Parsing nodes:   0%|          | 0/4 [00:00<?, ?it/s]"
      ]
     },
     "metadata": {},
     "output_type": "display_data"
    },
    {
     "data": {
      "application/vnd.jupyter.widget-view+json": {
       "model_id": "1a3384f4169f47f088a65b240cb9e722",
       "version_major": 2,
       "version_minor": 0
      },
      "text/plain": [
       "Generating embeddings:   0%|          | 0/54 [00:00<?, ?it/s]"
      ]
     },
     "metadata": {},
     "output_type": "display_data"
    }
   ],
   "source": [
    "documents_with_summary = documents.copy()\n",
    "\n",
    "for summary in summaries:\n",
    "    documents_with_summary.append(\n",
    "        Document(\n",
    "            text=summary,\n",
    "            extra_info={\"source\": \"summary\"}\n",
    "        )\n",
    "    )\n",
    "\n",
    "# Prepare the documents to be indexed\n",
    "def prepare_query_retriever():\n",
    "    nodes = text_splitter.get_nodes_from_documents(documents_with_summary, show_progress=True)\n",
    "    index = VectorStoreIndex.from_documents(documents_with_summary, show_progress=True, text_splitter=text_splitter)\n",
    "    index_retriever = index.as_retriever(similarity_top_k=3)\n",
    "    bm25_retriever = BM25Retriever.from_defaults(\n",
    "        nodes=nodes,\n",
    "        similarity_top_k=3,\n",
    "    )\n",
    "\n",
    "    return QueryFusionRetriever(\n",
    "        [index_retriever, bm25_retriever],\n",
    "        num_queries=1,\n",
    "        similarity_top_k=4,\n",
    "        verbose=True,\n",
    "    )\n",
    "\n",
    "qr = prepare_query_retriever()"
   ]
  },
  {
   "cell_type": "code",
   "execution_count": 19,
   "metadata": {},
   "outputs": [
    {
     "name": "stdout",
     "output_type": "stream",
     "text": [
      "Here are 5 reasoning-based questions that cover the provided summary:\n",
      "\n",
      "1. **Which method is more effective in disseminating information across a distributed system: a push-based approach or a pull-based approach? Justify your answer.**\n",
      "\n",
      "2. **Consider a network with limited connectivity. How would you balance the need for efficient message dissemination with the constraint of sparse connections? Provide a solution and explain your reasoning.**\n",
      "\n",
      "3. **Imagine a scenario where a critical message needs to be removed from circulation. What strategies could be employed to prevent further propagation, despite the presence of gossip-based data dissemination? Explain your approach.**\n",
      "\n",
      "4. **Compare the efficiency of tree-based and mesh-based multicast approaches in terms of resource utilization and latency. Provide a detailed analysis of their trade-offs.**\n",
      "\n",
      "5. **Suppose you are designing an epidemic behavior model for message dissemination. How would you incorporate features like difficulty in deleting messages, use of death certificates, or other strategies to mitigate potential issues? Justify your design decisions with logical reasoning.**\n"
     ]
    },
    {
     "data": {
      "text/plain": [
       "['**Which method is more effective in disseminating information across a distributed system: a push-based approach or a pull-based approach? Justify your answer.**',\n",
       " '**Consider a network with limited connectivity. How would you balance the need for efficient message dissemination with the constraint of sparse connections? Provide a solution and explain your reasoning.**',\n",
       " '**Imagine a scenario where a critical message needs to be removed from circulation. What strategies could be employed to prevent further propagation, despite the presence of gossip-based data dissemination? Explain your approach.**',\n",
       " '**Compare the efficiency of tree-based and mesh-based multicast approaches in terms of resource utilization and latency. Provide a detailed analysis of their trade-offs.**',\n",
       " '**Suppose you are designing an epidemic behavior model for message dissemination. How would you incorporate features like difficulty in deleting messages, use of death certificates, or other strategies to mitigate potential issues? Justify your design decisions with logical reasoning.**']"
      ]
     },
     "execution_count": 19,
     "metadata": {},
     "output_type": "execute_result"
    }
   ],
   "source": [
    "# Create questions out of the summaries\n",
    "import re\n",
    "questions = []\n",
    "question_re = re.compile(r\"\\d{1,2}\\.\\s(.*)\")\n",
    "\n",
    "# Trim the first 2 lines\n",
    "chunk = \"\\n\".join(summaries)\n",
    "\n",
    "result = c.generate(\n",
    "    model=model,\n",
    "    prompt=(\n",
    "f\"\"\"Create 5 questions that covers this summary.\n",
    "The questions should ask reasoning and not ask for facts.\n",
    "You must answer in the following format:\n",
    "<Questions>\n",
    "1. Question 1\n",
    "2. Question 2\n",
    "\n",
    "<Summary>\n",
    "{chunk}\n",
    "\n",
    "<Questions>\n",
    "\"\"\"\n",
    "    ),\n",
    "    options={\n",
    "        \"temperature\": 1,\n",
    "        \"num_predict\": 1*1024,\n",
    "    }\n",
    ")\n",
    "\n",
    "response = result[\"response\"]\n",
    "print(response)\n",
    "questions = question_re.findall(response)\n",
    "questions = [q.strip() for q in questions]\n",
    "\n",
    "questions"
   ]
  },
  {
   "cell_type": "code",
   "execution_count": 20,
   "metadata": {},
   "outputs": [],
   "source": [
    "# Augment each question with the relevant data and information\n",
    "from llama_index.core.query_engine import RetrieverQueryEngine\n",
    "from llama_index.core import get_response_synthesizer\n",
    "\n",
    "qe = RetrieverQueryEngine(\n",
    "    retriever=qr,\n",
    ")"
   ]
  },
  {
   "cell_type": "code",
   "execution_count": 21,
   "metadata": {},
   "outputs": [
    {
     "name": "stdout",
     "output_type": "stream",
     "text": [
      "**Rewrite**\n",
      "\n",
      "A gossip-based data dissemination approach with anti-entropy is more effective in disseminating information across a distributed system. This is because it relies on epidemic behavior, where nodes spread updates to their neighbors using local information, and can quickly propagate updates among all nodes using either form of anti-entropy, although push-pull remains the best strategy. The use of pull-based approach works much better when many nodes are infected, making it an excellent way of rapidly spreading news across a distributed system.\n"
     ]
    }
   ],
   "source": [
    "questions_with_explanations = []\n",
    "\n",
    "question = questions[0]\n",
    "result = qe.query(question)\n",
    "\n",
    "print(result)"
   ]
  }
 ],
 "metadata": {
  "kernelspec": {
   "display_name": "sl",
   "language": "python",
   "name": "python3"
  },
  "language_info": {
   "codemirror_mode": {
    "name": "ipython",
    "version": 3
   },
   "file_extension": ".py",
   "mimetype": "text/x-python",
   "name": "python",
   "nbconvert_exporter": "python",
   "pygments_lexer": "ipython3",
   "version": "3.12.7"
  }
 },
 "nbformat": 4,
 "nbformat_minor": 2
}
